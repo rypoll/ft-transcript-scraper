{
 "cells": [
  {
   "cell_type": "code",
   "execution_count": null,
   "id": "2061f153-aa78-40cf-b550-64249f6f8116",
   "metadata": {},
   "outputs": [],
   "source": []
  }
 ],
 "metadata": {
  "kernelspec": {
   "display_name": "",
   "name": ""
  },
  "language_info": {
   "name": ""
  }
 },
 "nbformat": 4,
 "nbformat_minor": 5
}
